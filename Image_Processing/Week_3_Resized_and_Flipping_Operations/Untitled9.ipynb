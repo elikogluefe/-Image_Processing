{
 "cells": [
  {
   "cell_type": "code",
   "execution_count": 1,
   "id": "38fc7779-c9ed-4ff1-92d4-1c6805f2d100",
   "metadata": {},
   "outputs": [],
   "source": [
    "import cv2\n",
    "import numpy as np"
   ]
  },
  {
   "cell_type": "code",
   "execution_count": 3,
   "id": "b678e7b2-9dcf-4e0a-8b4f-1da167de3344",
   "metadata": {},
   "outputs": [
    {
     "data": {
      "text/plain": [
       "(234, 216, 3)"
      ]
     },
     "execution_count": 3,
     "metadata": {},
     "output_type": "execute_result"
    }
   ],
   "source": [
    "my_img = cv2.imread(\"./indir.jfif\",1)\n",
    "my_img.shape"
   ]
  },
  {
   "cell_type": "code",
   "execution_count": 5,
   "id": "8dd524c6-97bb-4da1-954b-013d09dc7dc0",
   "metadata": {},
   "outputs": [],
   "source": [
    "cv2.imshow(\"RGB Image\",my_img)\n",
    "cv2.waitKey(0)\n",
    "cv2.destroyAllWindows()"
   ]
  },
  {
   "cell_type": "code",
   "execution_count": 9,
   "id": "e4475a70-3074-47c8-ab40-c4b6193b5c4a",
   "metadata": {},
   "outputs": [],
   "source": [
    "vertical_img=cv2.flip(my_img,0)\n",
    "horizontal_img=cv2.flip(my_img,1)\n",
    "both_img=cv2.flip(my_img,-1)"
   ]
  },
  {
   "cell_type": "code",
   "execution_count": 11,
   "id": "d0599f99-e526-4949-bc14-3cb56682b9ec",
   "metadata": {},
   "outputs": [],
   "source": [
    "cv2.imshow(\"Orijinal Image\",my_img)\n",
    "cv2.imshow(\"Vertical Image\",vertical_img)\n",
    "cv2.imshow(\"Horizontal Image\",horizontal_img)\n",
    "cv2.imshow(\"Vertical and Horizontal Image\",both_img)\n",
    "cv2.waitKey(0)\n",
    "cv2.destroyAllWindows()\n"
   ]
  },
  {
   "cell_type": "code",
   "execution_count": null,
   "id": "f869c101-7f53-45f8-a6d4-50db914b9437",
   "metadata": {},
   "outputs": [],
   "source": [
    "type(my_img)"
   ]
  },
  {
   "cell_type": "code",
   "execution_count": null,
   "id": "2266a4c0-327c-493f-9348-987a039bb816",
   "metadata": {},
   "outputs": [],
   "source": [
    "new_vertical_img = my_img[]"
   ]
  },
  {
   "cell_type": "code",
   "execution_count": null,
   "id": "b6bc7924-72a7-4b42-b14c-8d6e9873d3c6",
   "metadata": {},
   "outputs": [],
   "source": [
    "new_vertical_img = my_img[::-1,:,:]\n",
    "new_horizontal_img = my_img[:,::-1,:]\n",
    "new_both_img=my_img[::-1,::-1,:]"
   ]
  },
  {
   "cell_type": "code",
   "execution_count": null,
   "id": "035bd6d5-7a31-4093-a1b0-12a48873e32b",
   "metadata": {},
   "outputs": [],
   "source": [
    "cv2.imshow(\"Orijinal Image\",my_img)\n",
    "cv2.imshow(\"Vertical Image\",new_vertical_img)\n",
    "cv2.imshow(\"Horizontal Image\",new_horizontal_img)\n",
    "cv2.imshow(\"Vertical and Horizontal Image\",new_both_img)\n",
    "cv2.waitKey(1)\n",
    "cv2.destroyAllWindows()\n"
   ]
  },
  {
   "cell_type": "code",
   "execution_count": 32,
   "id": "41d62d73-cb39-469f-863c-34226ffd206f",
   "metadata": {},
   "outputs": [],
   "source": [
    "my_resized_img=cv2.resize(my_img,(600,450),cv2.INTER_LANCZOS4)\n",
    "cv2.imshow(\"Orijinal Image\",my_img)\n",
    "cv2.imshow(\"Resized Image\",my_resized_img)\n",
    "cv2.waitKey(0)\n",
    "cv2.destroyAllWindows()\n"
   ]
  },
  {
   "cell_type": "code",
   "execution_count": 34,
   "id": "7d7e09b4-eb6c-43b5-a9f9-6b17cb3beea1",
   "metadata": {},
   "outputs": [
    {
     "data": {
      "text/plain": [
       "True"
      ]
     },
     "execution_count": 34,
     "metadata": {},
     "output_type": "execute_result"
    }
   ],
   "source": [
    "cv2.imwrite(\"./resized_image_output.png\",my_resized_img)"
   ]
  },
  {
   "cell_type": "code",
   "execution_count": null,
   "id": "3edceed5-09cd-4687-9330-a834b4f01e02",
   "metadata": {},
   "outputs": [],
   "source": []
  }
 ],
 "metadata": {
  "kernelspec": {
   "display_name": "env_ybs",
   "language": "python",
   "name": "env_ybs"
  },
  "language_info": {
   "codemirror_mode": {
    "name": "ipython",
    "version": 3
   },
   "file_extension": ".py",
   "mimetype": "text/x-python",
   "name": "python",
   "nbconvert_exporter": "python",
   "pygments_lexer": "ipython3",
   "version": "3.10.14"
  }
 },
 "nbformat": 4,
 "nbformat_minor": 5
}

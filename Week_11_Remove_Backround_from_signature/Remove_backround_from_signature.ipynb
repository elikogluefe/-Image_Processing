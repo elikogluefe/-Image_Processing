{
 "cells": [
  {
   "cell_type": "code",
   "execution_count": 1,
   "id": "d84afdcb-3c64-4d3a-ae4b-5f3c0ff81dd4",
   "metadata": {},
   "outputs": [],
   "source": [
    "import numpy as np\n",
    "from PIL import Image"
   ]
  },
  {
   "cell_type": "code",
   "execution_count": 19,
   "id": "66eea875-e3fe-421e-ada8-7daaee8d8e0b",
   "metadata": {},
   "outputs": [],
   "source": [
    "my_image =Image.open(\"./your_own_signature.jpeg\").convert('RGB')\n",
    "my_img_normalize=np.array(my_image)/255.0\n",
    "my_img_normalize[my_img_normalize>0.5]=1\n",
    "my_img_uint8=(my_img_normalize*255).astype(np.uint8)\n",
    "my_img_final=Image.fromarray(my_img_uint8)\n",
    "my_img_final.save(\"./my_modified_signature.png\")"
   ]
  },
  {
   "cell_type": "code",
   "execution_count": null,
   "id": "c8c2597d-baab-449f-86ae-bee1d5c3ebd9",
   "metadata": {},
   "outputs": [],
   "source": []
  }
 ],
 "metadata": {
  "kernelspec": {
   "display_name": "env_ybs",
   "language": "python",
   "name": "env_ybs"
  },
  "language_info": {
   "codemirror_mode": {
    "name": "ipython",
    "version": 3
   },
   "file_extension": ".py",
   "mimetype": "text/x-python",
   "name": "python",
   "nbconvert_exporter": "python",
   "pygments_lexer": "ipython3",
   "version": "3.10.10"
  }
 },
 "nbformat": 4,
 "nbformat_minor": 5
}
